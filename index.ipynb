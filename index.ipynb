{
 "cells": [
  {
   "cell_type": "markdown",
   "metadata": {},
   "source": [
    "# Join Statements - Lab\n",
    "\n",
    "## Introduction\n",
    "\n",
    "In this lab, you'll practice your knowledge of `JOIN` statements, using various types of joins and various methods for specifying the links between them.\n",
    "\n",
    "## Objectives\n",
    "\n",
    "You will be able to:\n",
    "\n",
    "* Write SQL queries that make use of various types of joins\n",
    "* Compare and contrast the various types of joins\n",
    "* Discuss how primary and foreign keys are used in SQL\n",
    "* Decide and perform whichever type of join is best for retrieving desired data"
   ]
  },
  {
   "cell_type": "markdown",
   "metadata": {},
   "source": [
    "## CRM ERD\n",
    "\n",
    "In this lab, you'll use the same customer relationship management (CRM) database that you saw from the previous lesson.\n",
    "<img src='https://curriculum-content.s3.amazonaws.com/data-science/images/Database-Schema.png' width=\"600\">"
   ]
  },
  {
   "cell_type": "markdown",
   "metadata": {},
   "source": [
    "## Connecting to the Database\n",
    "Import the necessary packages and connect to the database `'data.sqlite'`."
   ]
  },
  {
   "cell_type": "code",
   "execution_count": 2,
   "metadata": {},
   "outputs": [],
   "source": [
    "# Your code here\n",
    "\n",
    "import pandas as pd\n",
    "import sqlite3\n",
    "conn = sqlite3.connect('data.sqlite')"
   ]
  },
  {
   "cell_type": "markdown",
   "metadata": {},
   "source": [
    "## Select the names of all employees in Boston \n",
    "\n",
    "Hint: join the employees and offices tables. Select the first and last name."
   ]
  },
  {
   "cell_type": "code",
   "execution_count": 3,
   "metadata": {},
   "outputs": [
    {
     "data": {
      "application/vnd.microsoft.datawrangler.viewer.v0+json": {
       "columns": [
        {
         "name": "index",
         "rawType": "int64",
         "type": "integer"
        },
        {
         "name": "First Name",
         "rawType": "object",
         "type": "string"
        },
        {
         "name": "Last Name",
         "rawType": "object",
         "type": "string"
        },
        {
         "name": "Employee City",
         "rawType": "object",
         "type": "string"
        }
       ],
       "ref": "0af7499b-d66a-4d98-aa1e-c736292c0051",
       "rows": [
        [
         "0",
         "Julie",
         "Firrelli",
         "Boston"
        ],
        [
         "1",
         "Steve",
         "Patterson",
         "Boston"
        ]
       ],
       "shape": {
        "columns": 3,
        "rows": 2
       }
      },
      "text/html": [
       "<div>\n",
       "<style scoped>\n",
       "    .dataframe tbody tr th:only-of-type {\n",
       "        vertical-align: middle;\n",
       "    }\n",
       "\n",
       "    .dataframe tbody tr th {\n",
       "        vertical-align: top;\n",
       "    }\n",
       "\n",
       "    .dataframe thead th {\n",
       "        text-align: right;\n",
       "    }\n",
       "</style>\n",
       "<table border=\"1\" class=\"dataframe\">\n",
       "  <thead>\n",
       "    <tr style=\"text-align: right;\">\n",
       "      <th></th>\n",
       "      <th>First Name</th>\n",
       "      <th>Last Name</th>\n",
       "      <th>Employee City</th>\n",
       "    </tr>\n",
       "  </thead>\n",
       "  <tbody>\n",
       "    <tr>\n",
       "      <th>0</th>\n",
       "      <td>Julie</td>\n",
       "      <td>Firrelli</td>\n",
       "      <td>Boston</td>\n",
       "    </tr>\n",
       "    <tr>\n",
       "      <th>1</th>\n",
       "      <td>Steve</td>\n",
       "      <td>Patterson</td>\n",
       "      <td>Boston</td>\n",
       "    </tr>\n",
       "  </tbody>\n",
       "</table>\n",
       "</div>"
      ],
      "text/plain": [
       "  First Name  Last Name Employee City\n",
       "0      Julie   Firrelli        Boston\n",
       "1      Steve  Patterson        Boston"
      ]
     },
     "execution_count": 3,
     "metadata": {},
     "output_type": "execute_result"
    }
   ],
   "source": [
    "q = (\"\"\"\n",
    "SELECT firstName AS \"First Name\", lastName AS \"Last Name\", city AS \"Employee City\"\n",
    "FROM employees\n",
    "JOIN offices\n",
    "USING(officeCode)\n",
    "WHERE city = 'Boston'\n",
    "\"\"\")\n",
    "\n",
    "pd.read_sql(q,conn)"
   ]
  },
  {
   "cell_type": "code",
   "execution_count": 4,
   "metadata": {},
   "outputs": [
    {
     "data": {
      "text/plain": [
       "Index(['officeCode', 'city', 'phone', 'addressLine1', 'addressLine2', 'state',\n",
       "       'country', 'postalCode', 'territory'],\n",
       "      dtype='object')"
      ]
     },
     "execution_count": 4,
     "metadata": {},
     "output_type": "execute_result"
    }
   ],
   "source": [
    "pd.read_sql(\"\"\"          \n",
    "SELECT * \n",
    "FROM offices       \n",
    "\"\"\",conn).columns"
   ]
  },
  {
   "cell_type": "code",
   "execution_count": 5,
   "metadata": {},
   "outputs": [
    {
     "data": {
      "text/plain": [
       "Index(['employeeNumber', 'lastName', 'firstName', 'extension', 'email',\n",
       "       'officeCode', 'reportsTo', 'jobTitle'],\n",
       "      dtype='object')"
      ]
     },
     "execution_count": 5,
     "metadata": {},
     "output_type": "execute_result"
    }
   ],
   "source": [
    "pd.read_sql(\"\"\"          \n",
    "SELECT * \n",
    "FROM employees       \n",
    "\"\"\",conn).columns"
   ]
  },
  {
   "cell_type": "markdown",
   "metadata": {},
   "source": [
    "## Are there any offices that have zero employees?\n",
    "Hint: Combine the employees and offices tables and use a group by. Select the office code, city, and number of employees."
   ]
  },
  {
   "cell_type": "code",
   "execution_count": 6,
   "metadata": {},
   "outputs": [
    {
     "data": {
      "application/vnd.microsoft.datawrangler.viewer.v0+json": {
       "columns": [
        {
         "name": "index",
         "rawType": "int64",
         "type": "integer"
        },
        {
         "name": "Office Code",
         "rawType": "int64",
         "type": "integer"
        },
        {
         "name": "Office City",
         "rawType": "object",
         "type": "string"
        },
        {
         "name": "Employees",
         "rawType": "int64",
         "type": "integer"
        }
       ],
       "ref": "cf0d2c69-85db-4c16-818e-fe96ac75e044",
       "rows": [
        [
         "0",
         "27",
         "Boston",
         "0"
        ]
       ],
       "shape": {
        "columns": 3,
        "rows": 1
       }
      },
      "text/html": [
       "<div>\n",
       "<style scoped>\n",
       "    .dataframe tbody tr th:only-of-type {\n",
       "        vertical-align: middle;\n",
       "    }\n",
       "\n",
       "    .dataframe tbody tr th {\n",
       "        vertical-align: top;\n",
       "    }\n",
       "\n",
       "    .dataframe thead th {\n",
       "        text-align: right;\n",
       "    }\n",
       "</style>\n",
       "<table border=\"1\" class=\"dataframe\">\n",
       "  <thead>\n",
       "    <tr style=\"text-align: right;\">\n",
       "      <th></th>\n",
       "      <th>Office Code</th>\n",
       "      <th>Office City</th>\n",
       "      <th>Employees</th>\n",
       "    </tr>\n",
       "  </thead>\n",
       "  <tbody>\n",
       "    <tr>\n",
       "      <th>0</th>\n",
       "      <td>27</td>\n",
       "      <td>Boston</td>\n",
       "      <td>0</td>\n",
       "    </tr>\n",
       "  </tbody>\n",
       "</table>\n",
       "</div>"
      ],
      "text/plain": [
       "   Office Code Office City  Employees\n",
       "0           27      Boston          0"
      ]
     },
     "execution_count": 6,
     "metadata": {},
     "output_type": "execute_result"
    }
   ],
   "source": [
    "# Your code here\n",
    "q = (\"\"\"\n",
    "SELECT officeCode AS \"Office Code\", \n",
    "       city AS \"Office City\",\n",
    "       COUNT(DISTINCT employeeNumber) AS \"Employees\"\n",
    "FROM offices\n",
    "LEFT JOIN employees\n",
    "USING(officeCode)\n",
    "GROUP BY officeCode\n",
    "HAVING COUNT(employeeNumber) = 0\n",
    "\"\"\")\n",
    "\n",
    "pd.read_sql(q,conn)"
   ]
  },
  {
   "cell_type": "markdown",
   "metadata": {},
   "source": [
    "## Write 3 questions of your own and answer them"
   ]
  },
  {
   "cell_type": "code",
   "execution_count": 7,
   "metadata": {},
   "outputs": [
    {
     "data": {
      "application/vnd.microsoft.datawrangler.viewer.v0+json": {
       "columns": [
        {
         "name": "index",
         "rawType": "int64",
         "type": "integer"
        },
        {
         "name": "Office Code",
         "rawType": "int64",
         "type": "integer"
        },
        {
         "name": "Office City",
         "rawType": "object",
         "type": "string"
        },
        {
         "name": "Num Customers",
         "rawType": "int64",
         "type": "integer"
        }
       ],
       "ref": "8f287e3a-5b77-4296-8bf3-641a00465819",
       "rows": [
        [
         "0",
         "1",
         "San Francisco",
         "12"
        ],
        [
         "1",
         "2",
         "Boston",
         "12"
        ],
        [
         "2",
         "3",
         "NYC",
         "15"
        ],
        [
         "3",
         "4",
         "Paris",
         "29"
        ],
        [
         "4",
         "5",
         "Tokyo",
         "5"
        ],
        [
         "5",
         "6",
         "Sydney",
         "10"
        ],
        [
         "6",
         "7",
         "London",
         "17"
        ],
        [
         "7",
         "27",
         "Boston",
         "0"
        ]
       ],
       "shape": {
        "columns": 3,
        "rows": 8
       }
      },
      "text/html": [
       "<div>\n",
       "<style scoped>\n",
       "    .dataframe tbody tr th:only-of-type {\n",
       "        vertical-align: middle;\n",
       "    }\n",
       "\n",
       "    .dataframe tbody tr th {\n",
       "        vertical-align: top;\n",
       "    }\n",
       "\n",
       "    .dataframe thead th {\n",
       "        text-align: right;\n",
       "    }\n",
       "</style>\n",
       "<table border=\"1\" class=\"dataframe\">\n",
       "  <thead>\n",
       "    <tr style=\"text-align: right;\">\n",
       "      <th></th>\n",
       "      <th>Office Code</th>\n",
       "      <th>Office City</th>\n",
       "      <th>Num Customers</th>\n",
       "    </tr>\n",
       "  </thead>\n",
       "  <tbody>\n",
       "    <tr>\n",
       "      <th>0</th>\n",
       "      <td>1</td>\n",
       "      <td>San Francisco</td>\n",
       "      <td>12</td>\n",
       "    </tr>\n",
       "    <tr>\n",
       "      <th>1</th>\n",
       "      <td>2</td>\n",
       "      <td>Boston</td>\n",
       "      <td>12</td>\n",
       "    </tr>\n",
       "    <tr>\n",
       "      <th>2</th>\n",
       "      <td>3</td>\n",
       "      <td>NYC</td>\n",
       "      <td>15</td>\n",
       "    </tr>\n",
       "    <tr>\n",
       "      <th>3</th>\n",
       "      <td>4</td>\n",
       "      <td>Paris</td>\n",
       "      <td>29</td>\n",
       "    </tr>\n",
       "    <tr>\n",
       "      <th>4</th>\n",
       "      <td>5</td>\n",
       "      <td>Tokyo</td>\n",
       "      <td>5</td>\n",
       "    </tr>\n",
       "    <tr>\n",
       "      <th>5</th>\n",
       "      <td>6</td>\n",
       "      <td>Sydney</td>\n",
       "      <td>10</td>\n",
       "    </tr>\n",
       "    <tr>\n",
       "      <th>6</th>\n",
       "      <td>7</td>\n",
       "      <td>London</td>\n",
       "      <td>17</td>\n",
       "    </tr>\n",
       "    <tr>\n",
       "      <th>7</th>\n",
       "      <td>27</td>\n",
       "      <td>Boston</td>\n",
       "      <td>0</td>\n",
       "    </tr>\n",
       "  </tbody>\n",
       "</table>\n",
       "</div>"
      ],
      "text/plain": [
       "   Office Code    Office City  Num Customers\n",
       "0            1  San Francisco             12\n",
       "1            2         Boston             12\n",
       "2            3            NYC             15\n",
       "3            4          Paris             29\n",
       "4            5          Tokyo              5\n",
       "5            6         Sydney             10\n",
       "6            7         London             17\n",
       "7           27         Boston              0"
      ]
     },
     "execution_count": 7,
     "metadata": {},
     "output_type": "execute_result"
    }
   ],
   "source": [
    "# Answers will vary\n",
    "\n",
    "# Example question: \n",
    "\"\"\"\n",
    "How many customers are there per office?\n",
    "\"\"\"\n",
    "q = (\"\"\"\n",
    "SELECT offices.officeCode AS \"Office Code\",\n",
    "       offices.city AS \"Office City\",\n",
    "       COUNT(DISTINCT customers.customerNumber) AS \"Num Customers\"\n",
    "FROM offices\n",
    "LEFT JOIN employees\n",
    "    ON offices.officeCode = employees.officeCode\n",
    "LEFT JOIN customers\n",
    "    ON employees.employeeNumber = customers.salesRepEmployeeNumber\n",
    "GROUP BY offices.officeCode, offices.city\n",
    "\n",
    "     \n",
    "\"\"\"\n",
    ")\n",
    "\n",
    "pd.read_sql(q,conn)"
   ]
  },
  {
   "cell_type": "code",
   "execution_count": 8,
   "metadata": {},
   "outputs": [
    {
     "data": {
      "application/vnd.microsoft.datawrangler.viewer.v0+json": {
       "columns": [
        {
         "name": "index",
         "rawType": "int64",
         "type": "integer"
        },
        {
         "name": "Customer Name",
         "rawType": "object",
         "type": "string"
        },
        {
         "name": "Payment Date",
         "rawType": "object",
         "type": "unknown"
        },
        {
         "name": "Payment Amount",
         "rawType": "object",
         "type": "unknown"
        }
       ],
       "ref": "9304f94e-f926-4c36-af60-397126de0ab9",
       "rows": [
        [
         "0",
         "Havel & Zbyszek Co",
         null,
         null
        ],
        [
         "1",
         "American Souvenirs Inc",
         null,
         null
        ],
        [
         "2",
         "Porto Imports Co.",
         null,
         null
        ],
        [
         "3",
         "Asian Shopping Network, Co",
         null,
         null
        ],
        [
         "4",
         "Natürlich Autos",
         null,
         null
        ],
        [
         "5",
         "ANG Resellers",
         null,
         null
        ],
        [
         "6",
         "Messner Shopping Network",
         null,
         null
        ],
        [
         "7",
         "Franken Gifts, Co",
         null,
         null
        ],
        [
         "8",
         "BG&E Collectables",
         null,
         null
        ],
        [
         "9",
         "Schuyler Imports",
         null,
         null
        ],
        [
         "10",
         "Der Hund Imports",
         null,
         null
        ],
        [
         "11",
         "Cramer Spezialitäten, Ltd",
         null,
         null
        ],
        [
         "12",
         "Asian Treasures, Inc.",
         null,
         null
        ],
        [
         "13",
         "SAR Distributors, Co",
         null,
         null
        ],
        [
         "14",
         "Kommission Auto",
         null,
         null
        ],
        [
         "15",
         "Lisboa Souveniers, Inc",
         null,
         null
        ],
        [
         "16",
         "Precious Collectables",
         null,
         null
        ],
        [
         "17",
         "Stuttgart Collectable Exchange",
         null,
         null
        ],
        [
         "18",
         "Feuer Online Stores, Inc",
         null,
         null
        ],
        [
         "19",
         "Warburg Exchange",
         null,
         null
        ],
        [
         "20",
         "Anton Designs, Ltd.",
         null,
         null
        ],
        [
         "21",
         "Mit Vergnügen & Co.",
         null,
         null
        ],
        [
         "22",
         "Kremlin Collectables, Co.",
         null,
         null
        ],
        [
         "23",
         "Raanan Stores, Inc",
         null,
         null
        ]
       ],
       "shape": {
        "columns": 3,
        "rows": 24
       }
      },
      "text/html": [
       "<div>\n",
       "<style scoped>\n",
       "    .dataframe tbody tr th:only-of-type {\n",
       "        vertical-align: middle;\n",
       "    }\n",
       "\n",
       "    .dataframe tbody tr th {\n",
       "        vertical-align: top;\n",
       "    }\n",
       "\n",
       "    .dataframe thead th {\n",
       "        text-align: right;\n",
       "    }\n",
       "</style>\n",
       "<table border=\"1\" class=\"dataframe\">\n",
       "  <thead>\n",
       "    <tr style=\"text-align: right;\">\n",
       "      <th></th>\n",
       "      <th>Customer Name</th>\n",
       "      <th>Payment Date</th>\n",
       "      <th>Payment Amount</th>\n",
       "    </tr>\n",
       "  </thead>\n",
       "  <tbody>\n",
       "    <tr>\n",
       "      <th>0</th>\n",
       "      <td>Havel &amp; Zbyszek Co</td>\n",
       "      <td>None</td>\n",
       "      <td>None</td>\n",
       "    </tr>\n",
       "    <tr>\n",
       "      <th>1</th>\n",
       "      <td>American Souvenirs Inc</td>\n",
       "      <td>None</td>\n",
       "      <td>None</td>\n",
       "    </tr>\n",
       "    <tr>\n",
       "      <th>2</th>\n",
       "      <td>Porto Imports Co.</td>\n",
       "      <td>None</td>\n",
       "      <td>None</td>\n",
       "    </tr>\n",
       "    <tr>\n",
       "      <th>3</th>\n",
       "      <td>Asian Shopping Network, Co</td>\n",
       "      <td>None</td>\n",
       "      <td>None</td>\n",
       "    </tr>\n",
       "    <tr>\n",
       "      <th>4</th>\n",
       "      <td>Natürlich Autos</td>\n",
       "      <td>None</td>\n",
       "      <td>None</td>\n",
       "    </tr>\n",
       "    <tr>\n",
       "      <th>5</th>\n",
       "      <td>ANG Resellers</td>\n",
       "      <td>None</td>\n",
       "      <td>None</td>\n",
       "    </tr>\n",
       "    <tr>\n",
       "      <th>6</th>\n",
       "      <td>Messner Shopping Network</td>\n",
       "      <td>None</td>\n",
       "      <td>None</td>\n",
       "    </tr>\n",
       "    <tr>\n",
       "      <th>7</th>\n",
       "      <td>Franken Gifts, Co</td>\n",
       "      <td>None</td>\n",
       "      <td>None</td>\n",
       "    </tr>\n",
       "    <tr>\n",
       "      <th>8</th>\n",
       "      <td>BG&amp;E Collectables</td>\n",
       "      <td>None</td>\n",
       "      <td>None</td>\n",
       "    </tr>\n",
       "    <tr>\n",
       "      <th>9</th>\n",
       "      <td>Schuyler Imports</td>\n",
       "      <td>None</td>\n",
       "      <td>None</td>\n",
       "    </tr>\n",
       "    <tr>\n",
       "      <th>10</th>\n",
       "      <td>Der Hund Imports</td>\n",
       "      <td>None</td>\n",
       "      <td>None</td>\n",
       "    </tr>\n",
       "    <tr>\n",
       "      <th>11</th>\n",
       "      <td>Cramer Spezialitäten, Ltd</td>\n",
       "      <td>None</td>\n",
       "      <td>None</td>\n",
       "    </tr>\n",
       "    <tr>\n",
       "      <th>12</th>\n",
       "      <td>Asian Treasures, Inc.</td>\n",
       "      <td>None</td>\n",
       "      <td>None</td>\n",
       "    </tr>\n",
       "    <tr>\n",
       "      <th>13</th>\n",
       "      <td>SAR Distributors, Co</td>\n",
       "      <td>None</td>\n",
       "      <td>None</td>\n",
       "    </tr>\n",
       "    <tr>\n",
       "      <th>14</th>\n",
       "      <td>Kommission Auto</td>\n",
       "      <td>None</td>\n",
       "      <td>None</td>\n",
       "    </tr>\n",
       "    <tr>\n",
       "      <th>15</th>\n",
       "      <td>Lisboa Souveniers, Inc</td>\n",
       "      <td>None</td>\n",
       "      <td>None</td>\n",
       "    </tr>\n",
       "    <tr>\n",
       "      <th>16</th>\n",
       "      <td>Precious Collectables</td>\n",
       "      <td>None</td>\n",
       "      <td>None</td>\n",
       "    </tr>\n",
       "    <tr>\n",
       "      <th>17</th>\n",
       "      <td>Stuttgart Collectable Exchange</td>\n",
       "      <td>None</td>\n",
       "      <td>None</td>\n",
       "    </tr>\n",
       "    <tr>\n",
       "      <th>18</th>\n",
       "      <td>Feuer Online Stores, Inc</td>\n",
       "      <td>None</td>\n",
       "      <td>None</td>\n",
       "    </tr>\n",
       "    <tr>\n",
       "      <th>19</th>\n",
       "      <td>Warburg Exchange</td>\n",
       "      <td>None</td>\n",
       "      <td>None</td>\n",
       "    </tr>\n",
       "    <tr>\n",
       "      <th>20</th>\n",
       "      <td>Anton Designs, Ltd.</td>\n",
       "      <td>None</td>\n",
       "      <td>None</td>\n",
       "    </tr>\n",
       "    <tr>\n",
       "      <th>21</th>\n",
       "      <td>Mit Vergnügen &amp; Co.</td>\n",
       "      <td>None</td>\n",
       "      <td>None</td>\n",
       "    </tr>\n",
       "    <tr>\n",
       "      <th>22</th>\n",
       "      <td>Kremlin Collectables, Co.</td>\n",
       "      <td>None</td>\n",
       "      <td>None</td>\n",
       "    </tr>\n",
       "    <tr>\n",
       "      <th>23</th>\n",
       "      <td>Raanan Stores, Inc</td>\n",
       "      <td>None</td>\n",
       "      <td>None</td>\n",
       "    </tr>\n",
       "  </tbody>\n",
       "</table>\n",
       "</div>"
      ],
      "text/plain": [
       "                     Customer Name Payment Date Payment Amount\n",
       "0               Havel & Zbyszek Co         None           None\n",
       "1           American Souvenirs Inc         None           None\n",
       "2                Porto Imports Co.         None           None\n",
       "3       Asian Shopping Network, Co         None           None\n",
       "4                  Natürlich Autos         None           None\n",
       "5                    ANG Resellers         None           None\n",
       "6         Messner Shopping Network         None           None\n",
       "7                Franken Gifts, Co         None           None\n",
       "8                BG&E Collectables         None           None\n",
       "9                 Schuyler Imports         None           None\n",
       "10                Der Hund Imports         None           None\n",
       "11       Cramer Spezialitäten, Ltd         None           None\n",
       "12           Asian Treasures, Inc.         None           None\n",
       "13            SAR Distributors, Co         None           None\n",
       "14                 Kommission Auto         None           None\n",
       "15          Lisboa Souveniers, Inc         None           None\n",
       "16           Precious Collectables         None           None\n",
       "17  Stuttgart Collectable Exchange         None           None\n",
       "18        Feuer Online Stores, Inc         None           None\n",
       "19                Warburg Exchange         None           None\n",
       "20             Anton Designs, Ltd.         None           None\n",
       "21             Mit Vergnügen & Co.         None           None\n",
       "22       Kremlin Collectables, Co.         None           None\n",
       "23              Raanan Stores, Inc         None           None"
      ]
     },
     "execution_count": 8,
     "metadata": {},
     "output_type": "execute_result"
    }
   ],
   "source": [
    "\"\"\"\n",
    "Question 1\n",
    "Which customers have no payments at all?\n",
    "\"\"\"\n",
    "\n",
    "q = (\"\"\"\n",
    "SELECT\n",
    "    customers.customerName AS \"Customer Name\",\n",
    "    payments.paymentDate AS \"Payment Date\",\n",
    "    payments.amount AS \"Payment Amount\"\n",
    "FROM customers\n",
    "LEFT JOIN payments\n",
    "USING(customerNumber)\n",
    "WHERE (paymentDate IS NULL) AND (amount IS NULL)\n",
    "\"\"\"\n",
    ")\n",
    "\n",
    "pd.read_sql(q,conn)\n",
    "\n",
    "\n",
    "\n",
    "# Your code here"
   ]
  },
  {
   "cell_type": "code",
   "execution_count": 9,
   "metadata": {},
   "outputs": [
    {
     "data": {
      "application/vnd.microsoft.datawrangler.viewer.v0+json": {
       "columns": [
        {
         "name": "index",
         "rawType": "int64",
         "type": "integer"
        },
        {
         "name": "Product Code",
         "rawType": "object",
         "type": "string"
        },
        {
         "name": "Product Name",
         "rawType": "object",
         "type": "string"
        },
        {
         "name": "Revenue",
         "rawType": "float64",
         "type": "float"
        }
       ],
       "ref": "448e7365-7069-4b0b-b4d6-dfa0d535d684",
       "rows": [
        [
         "0",
         "S18_3232",
         "1992 Ferrari 360 Spider red",
         "276839.98"
        ]
       ],
       "shape": {
        "columns": 3,
        "rows": 1
       }
      },
      "text/html": [
       "<div>\n",
       "<style scoped>\n",
       "    .dataframe tbody tr th:only-of-type {\n",
       "        vertical-align: middle;\n",
       "    }\n",
       "\n",
       "    .dataframe tbody tr th {\n",
       "        vertical-align: top;\n",
       "    }\n",
       "\n",
       "    .dataframe thead th {\n",
       "        text-align: right;\n",
       "    }\n",
       "</style>\n",
       "<table border=\"1\" class=\"dataframe\">\n",
       "  <thead>\n",
       "    <tr style=\"text-align: right;\">\n",
       "      <th></th>\n",
       "      <th>Product Code</th>\n",
       "      <th>Product Name</th>\n",
       "      <th>Revenue</th>\n",
       "    </tr>\n",
       "  </thead>\n",
       "  <tbody>\n",
       "    <tr>\n",
       "      <th>0</th>\n",
       "      <td>S18_3232</td>\n",
       "      <td>1992 Ferrari 360 Spider red</td>\n",
       "      <td>276839.98</td>\n",
       "    </tr>\n",
       "  </tbody>\n",
       "</table>\n",
       "</div>"
      ],
      "text/plain": [
       "  Product Code                 Product Name    Revenue\n",
       "0     S18_3232  1992 Ferrari 360 Spider red  276839.98"
      ]
     },
     "execution_count": 9,
     "metadata": {},
     "output_type": "execute_result"
    }
   ],
   "source": [
    "\"\"\"\n",
    "2. Which product has generated the most revenue overall?\n",
    "\"\"\"\n",
    "\n",
    "q = (\"\"\"\n",
    "SELECT\n",
    "    products.productCode AS \"Product Code\",\n",
    "    products.productName AS \"Product Name\",\n",
    "    SUM(orderdetails.quantityOrdered * orderdetails.priceEach) AS \"Revenue\"\n",
    "FROM products\n",
    "LEFT JOIN orderdetails\n",
    "USING(productCode)\n",
    "GROUP BY productCode, productName\n",
    "ORDER BY \"Revenue\" DESC\n",
    "LIMIT 1\n",
    "\"\"\"\n",
    ")\n",
    "\n",
    "pd.read_sql(q,conn)\n"
   ]
  },
  {
   "cell_type": "code",
   "execution_count": 10,
   "metadata": {},
   "outputs": [
    {
     "data": {
      "application/vnd.microsoft.datawrangler.viewer.v0+json": {
       "columns": [
        {
         "name": "index",
         "rawType": "int64",
         "type": "integer"
        },
        {
         "name": "Employee Number",
         "rawType": "int64",
         "type": "integer"
        },
        {
         "name": "Employee Name",
         "rawType": "object",
         "type": "string"
        },
        {
         "name": "Customer Count",
         "rawType": "int64",
         "type": "integer"
        }
       ],
       "ref": "9cf8fc1e-7e9a-4905-902a-b0e87f591c45",
       "rows": [
        [
         "0",
         "1401",
         "Pamela Castillo",
         "10"
        ]
       ],
       "shape": {
        "columns": 3,
        "rows": 1
       }
      },
      "text/html": [
       "<div>\n",
       "<style scoped>\n",
       "    .dataframe tbody tr th:only-of-type {\n",
       "        vertical-align: middle;\n",
       "    }\n",
       "\n",
       "    .dataframe tbody tr th {\n",
       "        vertical-align: top;\n",
       "    }\n",
       "\n",
       "    .dataframe thead th {\n",
       "        text-align: right;\n",
       "    }\n",
       "</style>\n",
       "<table border=\"1\" class=\"dataframe\">\n",
       "  <thead>\n",
       "    <tr style=\"text-align: right;\">\n",
       "      <th></th>\n",
       "      <th>Employee Number</th>\n",
       "      <th>Employee Name</th>\n",
       "      <th>Customer Count</th>\n",
       "    </tr>\n",
       "  </thead>\n",
       "  <tbody>\n",
       "    <tr>\n",
       "      <th>0</th>\n",
       "      <td>1401</td>\n",
       "      <td>Pamela Castillo</td>\n",
       "      <td>10</td>\n",
       "    </tr>\n",
       "  </tbody>\n",
       "</table>\n",
       "</div>"
      ],
      "text/plain": [
       "   Employee Number    Employee Name  Customer Count\n",
       "0             1401  Pamela Castillo              10"
      ]
     },
     "execution_count": 10,
     "metadata": {},
     "output_type": "execute_result"
    }
   ],
   "source": [
    "\"\"\"\n",
    "Which employee is associated with the most customers?\n",
    "\"\"\"\n",
    "\n",
    "q = (\"\"\"\n",
    "SELECT\n",
    "    employees.employeeNumber AS \"Employee Number\",\n",
    "    employees.firstName || ' ' || employees.lastName AS \"Employee Name\",\n",
    "    COUNT(customerNumber) AS \"Customer Count\"\n",
    "FROM employees\n",
    "LEFT JOIN customers\n",
    "    ON employees.employeeNumber = customers.salesRepEmployeeNumber\n",
    "GROUP BY employees.employeeNumber, \"Employee Name\"\n",
    "ORDER BY COUNT(customerNumber) DESC\n",
    "LIMIT 1      \n",
    "\"\"\")\n",
    "\n",
    "pd.read_sql(q,conn)"
   ]
  },
  {
   "cell_type": "code",
   "execution_count": 11,
   "metadata": {},
   "outputs": [
    {
     "data": {
      "application/vnd.microsoft.datawrangler.viewer.v0+json": {
       "columns": [
        {
         "name": "index",
         "rawType": "int64",
         "type": "integer"
        },
        {
         "name": "officeCode",
         "rawType": "int64",
         "type": "integer"
        },
        {
         "name": "city",
         "rawType": "object",
         "type": "string"
        },
        {
         "name": "total_office_sales",
         "rawType": "float64",
         "type": "float"
        }
       ],
       "ref": "1dd7a55a-1de7-4787-9e3f-f5ef1e0d15ce",
       "rows": [
        [
         "0",
         "4",
         "Paris",
         "3083761.58"
        ]
       ],
       "shape": {
        "columns": 3,
        "rows": 1
       }
      },
      "text/html": [
       "<div>\n",
       "<style scoped>\n",
       "    .dataframe tbody tr th:only-of-type {\n",
       "        vertical-align: middle;\n",
       "    }\n",
       "\n",
       "    .dataframe tbody tr th {\n",
       "        vertical-align: top;\n",
       "    }\n",
       "\n",
       "    .dataframe thead th {\n",
       "        text-align: right;\n",
       "    }\n",
       "</style>\n",
       "<table border=\"1\" class=\"dataframe\">\n",
       "  <thead>\n",
       "    <tr style=\"text-align: right;\">\n",
       "      <th></th>\n",
       "      <th>officeCode</th>\n",
       "      <th>city</th>\n",
       "      <th>total_office_sales</th>\n",
       "    </tr>\n",
       "  </thead>\n",
       "  <tbody>\n",
       "    <tr>\n",
       "      <th>0</th>\n",
       "      <td>4</td>\n",
       "      <td>Paris</td>\n",
       "      <td>3083761.58</td>\n",
       "    </tr>\n",
       "  </tbody>\n",
       "</table>\n",
       "</div>"
      ],
      "text/plain": [
       "   officeCode   city  total_office_sales\n",
       "0           4  Paris          3083761.58"
      ]
     },
     "execution_count": 11,
     "metadata": {},
     "output_type": "execute_result"
    }
   ],
   "source": [
    "\"\"\"\n",
    "Which office has the highest total order value across all its employees’ customers?\n",
    "\"\"\"\n",
    "\n",
    "q = (\"\"\"\n",
    "SELECT offices.officeCode,\n",
    "       offices.city,\n",
    "       SUM(orderdetails.priceEach * orderdetails.quantityOrdered) AS total_office_sales\n",
    "FROM offices\n",
    "JOIN employees\n",
    "  ON offices.officeCode = employees.officeCode\n",
    "JOIN customers\n",
    "  ON employees.employeeNumber = customers.salesRepEmployeeNumber\n",
    "JOIN orders\n",
    "  ON customers.customerNumber = orders.customerNumber\n",
    "JOIN orderdetails\n",
    "  ON orders.orderNumber = orderdetails.orderNumber\n",
    "GROUP BY offices.officeCode\n",
    "ORDER BY total_office_sales DESC\n",
    "LIMIT 1;\n",
    "\"\"\")\n",
    "\n",
    "pd.read_sql(q,conn)\n"
   ]
  },
  {
   "cell_type": "markdown",
   "metadata": {},
   "source": [
    "## Level Up 1: Display the names of every individual product that each employee has sold\n",
    "\n",
    "Hint: You will need to use multiple `JOIN` clauses to connect all the way from employee names to product names."
   ]
  },
  {
   "cell_type": "code",
   "execution_count": 12,
   "metadata": {},
   "outputs": [
    {
     "data": {
      "application/vnd.microsoft.datawrangler.viewer.v0+json": {
       "columns": [
        {
         "name": "index",
         "rawType": "int64",
         "type": "integer"
        },
        {
         "name": "Product Code",
         "rawType": "object",
         "type": "string"
        },
        {
         "name": "Product Name",
         "rawType": "object",
         "type": "string"
        },
        {
         "name": "Employe Number",
         "rawType": "int64",
         "type": "integer"
        },
        {
         "name": "Employee Name",
         "rawType": "object",
         "type": "string"
        }
       ],
       "ref": "07f00b26-ff71-4d6d-a8ca-cddebc76f4d7",
       "rows": [
        [
         "0",
         "S10_1678",
         "1969 Harley Davidson Ultimate Chopper",
         "1323",
         "George Vanauf"
        ],
        [
         "1",
         "S10_1678",
         "1969 Harley Davidson Ultimate Chopper",
         "1337",
         "Loui Bondur"
        ],
        [
         "2",
         "S10_1678",
         "1969 Harley Davidson Ultimate Chopper",
         "1337",
         "Loui Bondur"
        ],
        [
         "3",
         "S10_1678",
         "1969 Harley Davidson Ultimate Chopper",
         "1166",
         "Leslie Thompson"
        ],
        [
         "4",
         "S10_1678",
         "1969 Harley Davidson Ultimate Chopper",
         "1165",
         "Leslie Jennings"
        ],
        [
         "5",
         "S10_1678",
         "1969 Harley Davidson Ultimate Chopper",
         "1165",
         "Leslie Jennings"
        ],
        [
         "6",
         "S10_1678",
         "1969 Harley Davidson Ultimate Chopper",
         "1370",
         "Gerard Hernandez"
        ],
        [
         "7",
         "S10_1678",
         "1969 Harley Davidson Ultimate Chopper",
         "1504",
         "Barry Jones"
        ],
        [
         "8",
         "S10_1678",
         "1969 Harley Davidson Ultimate Chopper",
         "1165",
         "Leslie Jennings"
        ],
        [
         "9",
         "S10_1678",
         "1969 Harley Davidson Ultimate Chopper",
         "1337",
         "Loui Bondur"
        ],
        [
         "10",
         "S10_1678",
         "1969 Harley Davidson Ultimate Chopper",
         "1611",
         "Andy Fixter"
        ],
        [
         "11",
         "S10_1678",
         "1969 Harley Davidson Ultimate Chopper",
         "1286",
         "Foon Yue Tseng"
        ],
        [
         "12",
         "S10_1678",
         "1969 Harley Davidson Ultimate Chopper",
         "1323",
         "George Vanauf"
        ],
        [
         "13",
         "S10_1678",
         "1969 Harley Davidson Ultimate Chopper",
         "1323",
         "George Vanauf"
        ],
        [
         "14",
         "S10_1678",
         "1969 Harley Davidson Ultimate Chopper",
         "1370",
         "Gerard Hernandez"
        ],
        [
         "15",
         "S10_1678",
         "1969 Harley Davidson Ultimate Chopper",
         "1216",
         "Steve Patterson"
        ],
        [
         "16",
         "S10_1678",
         "1969 Harley Davidson Ultimate Chopper",
         "1501",
         "Larry Bott"
        ],
        [
         "17",
         "S10_1678",
         "1969 Harley Davidson Ultimate Chopper",
         "1504",
         "Barry Jones"
        ],
        [
         "18",
         "S10_1678",
         "1969 Harley Davidson Ultimate Chopper",
         "1216",
         "Steve Patterson"
        ],
        [
         "19",
         "S10_1678",
         "1969 Harley Davidson Ultimate Chopper",
         "1323",
         "George Vanauf"
        ],
        [
         "20",
         "S10_1678",
         "1969 Harley Davidson Ultimate Chopper",
         "1401",
         "Pamela Castillo"
        ],
        [
         "21",
         "S10_1678",
         "1969 Harley Davidson Ultimate Chopper",
         "1612",
         "Peter Marsh"
        ],
        [
         "22",
         "S10_1678",
         "1969 Harley Davidson Ultimate Chopper",
         "1611",
         "Andy Fixter"
        ],
        [
         "23",
         "S10_1678",
         "1969 Harley Davidson Ultimate Chopper",
         "1370",
         "Gerard Hernandez"
        ],
        [
         "24",
         "S10_1678",
         "1969 Harley Davidson Ultimate Chopper",
         "1216",
         "Steve Patterson"
        ],
        [
         "25",
         "S10_1678",
         "1969 Harley Davidson Ultimate Chopper",
         "1612",
         "Peter Marsh"
        ],
        [
         "26",
         "S10_1678",
         "1969 Harley Davidson Ultimate Chopper",
         "1501",
         "Larry Bott"
        ],
        [
         "27",
         "S10_1678",
         "1969 Harley Davidson Ultimate Chopper",
         "1370",
         "Gerard Hernandez"
        ],
        [
         "28",
         "S10_1949",
         "1952 Alpine Renault 1300",
         "1504",
         "Barry Jones"
        ],
        [
         "29",
         "S10_1949",
         "1952 Alpine Renault 1300",
         "1504",
         "Barry Jones"
        ],
        [
         "30",
         "S10_1949",
         "1952 Alpine Renault 1300",
         "1702",
         "Martin Gerard"
        ],
        [
         "31",
         "S10_1949",
         "1952 Alpine Renault 1300",
         "1165",
         "Leslie Jennings"
        ],
        [
         "32",
         "S10_1949",
         "1952 Alpine Renault 1300",
         "1621",
         "Mami Nishi"
        ],
        [
         "33",
         "S10_1949",
         "1952 Alpine Renault 1300",
         "1286",
         "Foon Yue Tseng"
        ],
        [
         "34",
         "S10_1949",
         "1952 Alpine Renault 1300",
         "1611",
         "Andy Fixter"
        ],
        [
         "35",
         "S10_1949",
         "1952 Alpine Renault 1300",
         "1188",
         "Julie Firrelli"
        ],
        [
         "36",
         "S10_1949",
         "1952 Alpine Renault 1300",
         "1337",
         "Loui Bondur"
        ],
        [
         "37",
         "S10_1949",
         "1952 Alpine Renault 1300",
         "1323",
         "George Vanauf"
        ],
        [
         "38",
         "S10_1949",
         "1952 Alpine Renault 1300",
         "1166",
         "Leslie Thompson"
        ],
        [
         "39",
         "S10_1949",
         "1952 Alpine Renault 1300",
         "1188",
         "Julie Firrelli"
        ],
        [
         "40",
         "S10_1949",
         "1952 Alpine Renault 1300",
         "1286",
         "Foon Yue Tseng"
        ],
        [
         "41",
         "S10_1949",
         "1952 Alpine Renault 1300",
         "1621",
         "Mami Nishi"
        ],
        [
         "42",
         "S10_1949",
         "1952 Alpine Renault 1300",
         "1611",
         "Andy Fixter"
        ],
        [
         "43",
         "S10_1949",
         "1952 Alpine Renault 1300",
         "1401",
         "Pamela Castillo"
        ],
        [
         "44",
         "S10_1949",
         "1952 Alpine Renault 1300",
         "1504",
         "Barry Jones"
        ],
        [
         "45",
         "S10_1949",
         "1952 Alpine Renault 1300",
         "1370",
         "Gerard Hernandez"
        ],
        [
         "46",
         "S10_1949",
         "1952 Alpine Renault 1300",
         "1165",
         "Leslie Jennings"
        ],
        [
         "47",
         "S10_1949",
         "1952 Alpine Renault 1300",
         "1216",
         "Steve Patterson"
        ],
        [
         "48",
         "S10_1949",
         "1952 Alpine Renault 1300",
         "1165",
         "Leslie Jennings"
        ],
        [
         "49",
         "S10_1949",
         "1952 Alpine Renault 1300",
         "1611",
         "Andy Fixter"
        ]
       ],
       "shape": {
        "columns": 4,
        "rows": 2996
       }
      },
      "text/html": [
       "<div>\n",
       "<style scoped>\n",
       "    .dataframe tbody tr th:only-of-type {\n",
       "        vertical-align: middle;\n",
       "    }\n",
       "\n",
       "    .dataframe tbody tr th {\n",
       "        vertical-align: top;\n",
       "    }\n",
       "\n",
       "    .dataframe thead th {\n",
       "        text-align: right;\n",
       "    }\n",
       "</style>\n",
       "<table border=\"1\" class=\"dataframe\">\n",
       "  <thead>\n",
       "    <tr style=\"text-align: right;\">\n",
       "      <th></th>\n",
       "      <th>Product Code</th>\n",
       "      <th>Product Name</th>\n",
       "      <th>Employe Number</th>\n",
       "      <th>Employee Name</th>\n",
       "    </tr>\n",
       "  </thead>\n",
       "  <tbody>\n",
       "    <tr>\n",
       "      <th>0</th>\n",
       "      <td>S10_1678</td>\n",
       "      <td>1969 Harley Davidson Ultimate Chopper</td>\n",
       "      <td>1323</td>\n",
       "      <td>George Vanauf</td>\n",
       "    </tr>\n",
       "    <tr>\n",
       "      <th>1</th>\n",
       "      <td>S10_1678</td>\n",
       "      <td>1969 Harley Davidson Ultimate Chopper</td>\n",
       "      <td>1337</td>\n",
       "      <td>Loui Bondur</td>\n",
       "    </tr>\n",
       "    <tr>\n",
       "      <th>2</th>\n",
       "      <td>S10_1678</td>\n",
       "      <td>1969 Harley Davidson Ultimate Chopper</td>\n",
       "      <td>1337</td>\n",
       "      <td>Loui Bondur</td>\n",
       "    </tr>\n",
       "    <tr>\n",
       "      <th>3</th>\n",
       "      <td>S10_1678</td>\n",
       "      <td>1969 Harley Davidson Ultimate Chopper</td>\n",
       "      <td>1166</td>\n",
       "      <td>Leslie Thompson</td>\n",
       "    </tr>\n",
       "    <tr>\n",
       "      <th>4</th>\n",
       "      <td>S10_1678</td>\n",
       "      <td>1969 Harley Davidson Ultimate Chopper</td>\n",
       "      <td>1165</td>\n",
       "      <td>Leslie Jennings</td>\n",
       "    </tr>\n",
       "    <tr>\n",
       "      <th>...</th>\n",
       "      <td>...</td>\n",
       "      <td>...</td>\n",
       "      <td>...</td>\n",
       "      <td>...</td>\n",
       "    </tr>\n",
       "    <tr>\n",
       "      <th>2991</th>\n",
       "      <td>S72_3212</td>\n",
       "      <td>Pont Yacht</td>\n",
       "      <td>1612</td>\n",
       "      <td>Peter Marsh</td>\n",
       "    </tr>\n",
       "    <tr>\n",
       "      <th>2992</th>\n",
       "      <td>S72_3212</td>\n",
       "      <td>Pont Yacht</td>\n",
       "      <td>1501</td>\n",
       "      <td>Larry Bott</td>\n",
       "    </tr>\n",
       "    <tr>\n",
       "      <th>2993</th>\n",
       "      <td>S72_3212</td>\n",
       "      <td>Pont Yacht</td>\n",
       "      <td>1370</td>\n",
       "      <td>Gerard Hernandez</td>\n",
       "    </tr>\n",
       "    <tr>\n",
       "      <th>2994</th>\n",
       "      <td>S72_3212</td>\n",
       "      <td>Pont Yacht</td>\n",
       "      <td>1370</td>\n",
       "      <td>Gerard Hernandez</td>\n",
       "    </tr>\n",
       "    <tr>\n",
       "      <th>2995</th>\n",
       "      <td>S72_3212</td>\n",
       "      <td>Pont Yacht</td>\n",
       "      <td>1216</td>\n",
       "      <td>Steve Patterson</td>\n",
       "    </tr>\n",
       "  </tbody>\n",
       "</table>\n",
       "<p>2996 rows × 4 columns</p>\n",
       "</div>"
      ],
      "text/plain": [
       "     Product Code                           Product Name  Employe Number  \\\n",
       "0        S10_1678  1969 Harley Davidson Ultimate Chopper            1323   \n",
       "1        S10_1678  1969 Harley Davidson Ultimate Chopper            1337   \n",
       "2        S10_1678  1969 Harley Davidson Ultimate Chopper            1337   \n",
       "3        S10_1678  1969 Harley Davidson Ultimate Chopper            1166   \n",
       "4        S10_1678  1969 Harley Davidson Ultimate Chopper            1165   \n",
       "...           ...                                    ...             ...   \n",
       "2991     S72_3212                             Pont Yacht            1612   \n",
       "2992     S72_3212                             Pont Yacht            1501   \n",
       "2993     S72_3212                             Pont Yacht            1370   \n",
       "2994     S72_3212                             Pont Yacht            1370   \n",
       "2995     S72_3212                             Pont Yacht            1216   \n",
       "\n",
       "         Employee Name  \n",
       "0        George Vanauf  \n",
       "1          Loui Bondur  \n",
       "2          Loui Bondur  \n",
       "3      Leslie Thompson  \n",
       "4      Leslie Jennings  \n",
       "...                ...  \n",
       "2991       Peter Marsh  \n",
       "2992        Larry Bott  \n",
       "2993  Gerard Hernandez  \n",
       "2994  Gerard Hernandez  \n",
       "2995   Steve Patterson  \n",
       "\n",
       "[2996 rows x 4 columns]"
      ]
     },
     "execution_count": 12,
     "metadata": {},
     "output_type": "execute_result"
    }
   ],
   "source": [
    "# Your code here\n",
    "\"\"\"\n",
    "product --> orderdetails ---> orders ---> customers ---> employees\n",
    "\"\"\"\n",
    "\n",
    "q = (\"\"\"\n",
    "SELECT\n",
    "    products.productCode AS \"Product Code\",\n",
    "    products.productName AS \"Product Name\",\n",
    "    employees.employeeNumber AS \"Employe Number\",\n",
    "    employees.firstName || ' ' || employees.lastName AS \"Employee Name\"\n",
    "FROM products\n",
    "JOIN orderdetails\n",
    "    ON products.productCode = orderdetails.productCode\n",
    "JOIN orders\n",
    "    ON orderdetails.orderNumber = orders.orderNumber\n",
    "JOIN customers\n",
    "    ON orders.customerNumber = customers.customerNumber\n",
    "JOIN employees\n",
    "    ON customers.salesRepEmployeeNumber = employees.employeeNumber \n",
    "    \n",
    "\"\"\")\n",
    "\n",
    "pd.read_sql(q,conn)\n"
   ]
  },
  {
   "cell_type": "markdown",
   "metadata": {},
   "source": [
    "## Level Up 2: Display the number of products each employee has sold\n",
    "\n",
    "Alphabetize the results by employee last name.\n",
    "\n",
    "Hint: Use the `quantityOrdered` column from `orderDetails`. Also, think about how to group the data when some employees might have the same first or last name."
   ]
  },
  {
   "cell_type": "code",
   "execution_count": 13,
   "metadata": {},
   "outputs": [
    {
     "name": "stdout",
     "output_type": "stream",
     "text": [
      "Index(['productCode', 'productName', 'productLine', 'productScale',\n",
      "       'productVendor', 'productDescription', 'quantityInStock', 'buyPrice',\n",
      "       'MSRP'],\n",
      "      dtype='object') PRODUCTS\n",
      "Index(['orderNumber', 'productCode', 'quantityOrdered', 'priceEach',\n",
      "       'orderLineNumber'],\n",
      "      dtype='object') ORDERDETAILS\n",
      "Index(['orderNumber', 'orderDate', 'requiredDate', 'shippedDate', 'status',\n",
      "       'comments', 'customerNumber'],\n",
      "      dtype='object') ORDERS\n",
      "Index(['customerNumber', 'customerName', 'contactLastName', 'contactFirstName',\n",
      "       'phone', 'addressLine1', 'addressLine2', 'city', 'state', 'postalCode',\n",
      "       'country', 'salesRepEmployeeNumber', 'creditLimit'],\n",
      "      dtype='object') CUSTOMERS\n",
      "Index(['employeeNumber', 'lastName', 'firstName', 'extension', 'email',\n",
      "       'officeCode', 'reportsTo', 'jobTitle'],\n",
      "      dtype='object') EMPLOYEES\n"
     ]
    }
   ],
   "source": [
    "q_products = (\"\"\"\n",
    "SELECT * \n",
    "FROM products     \n",
    "\"\"\")\n",
    "\n",
    "q_orderdetails = (\"\"\"\n",
    "SELECT *\n",
    "FROM orderdetails\n",
    "\"\"\")\n",
    "q_orders = (\"\"\"\n",
    "SELECT *\n",
    "FROM orders\n",
    "\"\"\")\n",
    "q_customers = (\"\"\"\n",
    "SELECT * \n",
    "FROM customers\n",
    "\"\"\")\n",
    "q_employees = (\"\"\"\n",
    "SELECT *\n",
    "FROM employees\n",
    "\"\"\")\n",
    "\n",
    "print(pd.read_sql(q_products,conn).columns, (\"products\").upper())\n",
    "print(pd.read_sql(q_orderdetails,conn).columns, (\"orderdetails\").upper())\n",
    "print(pd.read_sql(q_orders,conn).columns, (\"orders\").upper())\n",
    "print(pd.read_sql(q_customers,conn).columns, (\"customers\").upper())\n",
    "print(pd.read_sql(q_employees,conn).columns, (\"employees\").upper())"
   ]
  },
  {
   "cell_type": "code",
   "execution_count": 19,
   "metadata": {},
   "outputs": [
    {
     "data": {
      "application/vnd.microsoft.datawrangler.viewer.v0+json": {
       "columns": [
        {
         "name": "index",
         "rawType": "int64",
         "type": "integer"
        },
        {
         "name": "Employee Number",
         "rawType": "int64",
         "type": "integer"
        },
        {
         "name": "Total Products Sold",
         "rawType": "int64",
         "type": "integer"
        },
        {
         "name": "Employee Name",
         "rawType": "object",
         "type": "string"
        }
       ],
       "ref": "2f3c152b-5625-4a2d-b17b-478add809c09",
       "rows": [
        [
         "0",
         "1611",
         "6246",
         "Andy Fixter"
        ],
        [
         "1",
         "1504",
         "7486",
         "Barry Jones"
        ],
        [
         "2",
         "1286",
         "5016",
         "Foon Yue Tseng"
        ],
        [
         "3",
         "1323",
         "7423",
         "George Vanauf"
        ],
        [
         "4",
         "1370",
         "14231",
         "Gerard Hernandez"
        ],
        [
         "5",
         "1188",
         "4227",
         "Julie Firrelli"
        ],
        [
         "6",
         "1501",
         "8205",
         "Larry Bott"
        ],
        [
         "7",
         "1165",
         "11854",
         "Leslie Jennings"
        ],
        [
         "8",
         "1166",
         "4056",
         "Leslie Thompson"
        ],
        [
         "9",
         "1337",
         "6186",
         "Loui Bondur"
        ],
        [
         "10",
         "1621",
         "4923",
         "Mami Nishi"
        ],
        [
         "11",
         "1702",
         "4180",
         "Martin Gerard"
        ],
        [
         "12",
         "1401",
         "9290",
         "Pamela Castillo"
        ],
        [
         "13",
         "1612",
         "6632",
         "Peter Marsh"
        ],
        [
         "14",
         "1216",
         "5561",
         "Steve Patterson"
        ]
       ],
       "shape": {
        "columns": 3,
        "rows": 15
       }
      },
      "text/html": [
       "<div>\n",
       "<style scoped>\n",
       "    .dataframe tbody tr th:only-of-type {\n",
       "        vertical-align: middle;\n",
       "    }\n",
       "\n",
       "    .dataframe tbody tr th {\n",
       "        vertical-align: top;\n",
       "    }\n",
       "\n",
       "    .dataframe thead th {\n",
       "        text-align: right;\n",
       "    }\n",
       "</style>\n",
       "<table border=\"1\" class=\"dataframe\">\n",
       "  <thead>\n",
       "    <tr style=\"text-align: right;\">\n",
       "      <th></th>\n",
       "      <th>Employee Number</th>\n",
       "      <th>Total Products Sold</th>\n",
       "      <th>Employee Name</th>\n",
       "    </tr>\n",
       "  </thead>\n",
       "  <tbody>\n",
       "    <tr>\n",
       "      <th>0</th>\n",
       "      <td>1611</td>\n",
       "      <td>6246</td>\n",
       "      <td>Andy Fixter</td>\n",
       "    </tr>\n",
       "    <tr>\n",
       "      <th>1</th>\n",
       "      <td>1504</td>\n",
       "      <td>7486</td>\n",
       "      <td>Barry Jones</td>\n",
       "    </tr>\n",
       "    <tr>\n",
       "      <th>2</th>\n",
       "      <td>1286</td>\n",
       "      <td>5016</td>\n",
       "      <td>Foon Yue Tseng</td>\n",
       "    </tr>\n",
       "    <tr>\n",
       "      <th>3</th>\n",
       "      <td>1323</td>\n",
       "      <td>7423</td>\n",
       "      <td>George Vanauf</td>\n",
       "    </tr>\n",
       "    <tr>\n",
       "      <th>4</th>\n",
       "      <td>1370</td>\n",
       "      <td>14231</td>\n",
       "      <td>Gerard Hernandez</td>\n",
       "    </tr>\n",
       "    <tr>\n",
       "      <th>5</th>\n",
       "      <td>1188</td>\n",
       "      <td>4227</td>\n",
       "      <td>Julie Firrelli</td>\n",
       "    </tr>\n",
       "    <tr>\n",
       "      <th>6</th>\n",
       "      <td>1501</td>\n",
       "      <td>8205</td>\n",
       "      <td>Larry Bott</td>\n",
       "    </tr>\n",
       "    <tr>\n",
       "      <th>7</th>\n",
       "      <td>1165</td>\n",
       "      <td>11854</td>\n",
       "      <td>Leslie Jennings</td>\n",
       "    </tr>\n",
       "    <tr>\n",
       "      <th>8</th>\n",
       "      <td>1166</td>\n",
       "      <td>4056</td>\n",
       "      <td>Leslie Thompson</td>\n",
       "    </tr>\n",
       "    <tr>\n",
       "      <th>9</th>\n",
       "      <td>1337</td>\n",
       "      <td>6186</td>\n",
       "      <td>Loui Bondur</td>\n",
       "    </tr>\n",
       "    <tr>\n",
       "      <th>10</th>\n",
       "      <td>1621</td>\n",
       "      <td>4923</td>\n",
       "      <td>Mami Nishi</td>\n",
       "    </tr>\n",
       "    <tr>\n",
       "      <th>11</th>\n",
       "      <td>1702</td>\n",
       "      <td>4180</td>\n",
       "      <td>Martin Gerard</td>\n",
       "    </tr>\n",
       "    <tr>\n",
       "      <th>12</th>\n",
       "      <td>1401</td>\n",
       "      <td>9290</td>\n",
       "      <td>Pamela Castillo</td>\n",
       "    </tr>\n",
       "    <tr>\n",
       "      <th>13</th>\n",
       "      <td>1612</td>\n",
       "      <td>6632</td>\n",
       "      <td>Peter Marsh</td>\n",
       "    </tr>\n",
       "    <tr>\n",
       "      <th>14</th>\n",
       "      <td>1216</td>\n",
       "      <td>5561</td>\n",
       "      <td>Steve Patterson</td>\n",
       "    </tr>\n",
       "  </tbody>\n",
       "</table>\n",
       "</div>"
      ],
      "text/plain": [
       "    Employee Number  Total Products Sold     Employee Name\n",
       "0              1611                 6246       Andy Fixter\n",
       "1              1504                 7486       Barry Jones\n",
       "2              1286                 5016    Foon Yue Tseng\n",
       "3              1323                 7423     George Vanauf\n",
       "4              1370                14231  Gerard Hernandez\n",
       "5              1188                 4227    Julie Firrelli\n",
       "6              1501                 8205        Larry Bott\n",
       "7              1165                11854   Leslie Jennings\n",
       "8              1166                 4056   Leslie Thompson\n",
       "9              1337                 6186       Loui Bondur\n",
       "10             1621                 4923        Mami Nishi\n",
       "11             1702                 4180     Martin Gerard\n",
       "12             1401                 9290   Pamela Castillo\n",
       "13             1612                 6632       Peter Marsh\n",
       "14             1216                 5561   Steve Patterson"
      ]
     },
     "execution_count": 19,
     "metadata": {},
     "output_type": "execute_result"
    }
   ],
   "source": [
    "# Your code here\n",
    "\"\"\"\n",
    "products --> orderdetails ---> orders ---> customers ---> employees\n",
    "\"\"\"\n",
    "\n",
    "q = (\"\"\"\n",
    "SELECT\n",
    "    employees.employeeNumber AS \"Employee Number\",\n",
    "    SUM(quantityOrdered) AS \"Total Products Sold\",\n",
    "    employees.firstName || ' ' || employees.lastName AS \"Employee Name\"\n",
    "FROM products\n",
    "JOIN orderdetails\n",
    "    ON products.productCode = orderdetails.productCode\n",
    "JOIN orders\n",
    "    ON orderdetails.orderNumber = orders.orderNumber\n",
    "JOIN customers\n",
    "    ON orders.customerNumber = customers.customerNumber\n",
    "JOIN employees\n",
    "    ON customers.salesRepEmployeeNumber = employees.employeeNumber\n",
    "GROUP BY employees.employeeNumber\n",
    "ORDER BY  employees.firstName || ' ' || employees.lastName\n",
    "\"\"\")\n",
    "\n",
    "pd.read_sql(q,conn)"
   ]
  },
  {
   "cell_type": "markdown",
   "metadata": {},
   "source": [
    "## Level Up 3: Display the names employees who have sold more than 200 different products\n",
    "\n",
    "Hint: this is different from the previous question because the quantity sold doesn't matter, only the number of different products"
   ]
  },
  {
   "cell_type": "code",
   "execution_count": 29,
   "metadata": {},
   "outputs": [
    {
     "data": {
      "application/vnd.microsoft.datawrangler.viewer.v0+json": {
       "columns": [
        {
         "name": "index",
         "rawType": "int64",
         "type": "integer"
        },
        {
         "name": "Unique Products Sold",
         "rawType": "object",
         "type": "string"
        },
        {
         "name": "Employee Number",
         "rawType": "object",
         "type": "string"
        },
        {
         "name": "Employee Name",
         "rawType": "object",
         "type": "string"
        }
       ],
       "ref": "4a71a91b-8a2a-4901-ae3a-7612871b945f",
       "rows": [],
       "shape": {
        "columns": 3,
        "rows": 0
       }
      },
      "text/html": [
       "<div>\n",
       "<style scoped>\n",
       "    .dataframe tbody tr th:only-of-type {\n",
       "        vertical-align: middle;\n",
       "    }\n",
       "\n",
       "    .dataframe tbody tr th {\n",
       "        vertical-align: top;\n",
       "    }\n",
       "\n",
       "    .dataframe thead th {\n",
       "        text-align: right;\n",
       "    }\n",
       "</style>\n",
       "<table border=\"1\" class=\"dataframe\">\n",
       "  <thead>\n",
       "    <tr style=\"text-align: right;\">\n",
       "      <th></th>\n",
       "      <th>Unique Products Sold</th>\n",
       "      <th>Employee Number</th>\n",
       "      <th>Employee Name</th>\n",
       "    </tr>\n",
       "  </thead>\n",
       "  <tbody>\n",
       "  </tbody>\n",
       "</table>\n",
       "</div>"
      ],
      "text/plain": [
       "Empty DataFrame\n",
       "Columns: [Unique Products Sold, Employee Number, Employee Name]\n",
       "Index: []"
      ]
     },
     "execution_count": 29,
     "metadata": {},
     "output_type": "execute_result"
    }
   ],
   "source": [
    "# Your code here\n",
    "\"\"\"\n",
    "products --> orderdetails ---> orders ---> customers ---> employees\n",
    "\"\"\"\n",
    "\n",
    "q = (\"\"\"\n",
    "SELECT\n",
    "    COUNT(DISTINCT products.productCode) AS \"Unique Products Sold\",\n",
    "    employees.employeeNumber AS \"Employee Number\",\n",
    "    employees.firstName || ' ' || employees.lastName AS \"Employee Name\"\n",
    "FROM products\n",
    "JOIN orderdetails\n",
    "    ON products.productCode = orderdetails.productCode\n",
    "JOIN orders\n",
    "    ON orderdetails.orderNumber = orders.orderNumber\n",
    "JOIN customers\n",
    "    ON orders.customerNumber = customers.customerNumber\n",
    "JOIN employees\n",
    "    ON customers.salesRepEmployeeNumber = employees.employeeNumber\n",
    "GROUP BY employees.employeeNumber\n",
    "HAVING COUNT(DISTINCT products.productCode) > 200\n",
    "ORDER BY employees.firstName || ' ' || employees.lastName\n",
    "\"\"\")\n",
    "\n",
    "\n",
    "pd.read_sql(q,conn)"
   ]
  },
  {
   "cell_type": "markdown",
   "metadata": {},
   "source": [
    "## Summary"
   ]
  },
  {
   "cell_type": "markdown",
   "metadata": {},
   "source": [
    "Congrats! You practiced using join statements and leveraged your foreign keys knowledge!"
   ]
  }
 ],
 "metadata": {
  "kernelspec": {
   "display_name": "learn-env",
   "language": "python",
   "name": "python3"
  },
  "language_info": {
   "codemirror_mode": {
    "name": "ipython",
    "version": 3
   },
   "file_extension": ".py",
   "mimetype": "text/x-python",
   "name": "python",
   "nbconvert_exporter": "python",
   "pygments_lexer": "ipython3",
   "version": "3.9.19"
  },
  "toc": {
   "base_numbering": 1,
   "nav_menu": {},
   "number_sections": true,
   "sideBar": true,
   "skip_h1_title": false,
   "title_cell": "Table of Contents",
   "title_sidebar": "Contents",
   "toc_cell": false,
   "toc_position": {},
   "toc_section_display": true,
   "toc_window_display": false
  }
 },
 "nbformat": 4,
 "nbformat_minor": 2
}
